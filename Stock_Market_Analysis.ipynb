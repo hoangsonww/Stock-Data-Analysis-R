{
 "cells": [
  {
   "cell_type": "markdown",
   "id": "f9425d71",
   "metadata": {},
   "source": [
    "# Stock Market Analysis Notebook\n",
    "\n",
    "A Jupyter Notebook version of the Stock Market Analysis R script, implemented in Python using `yfinance`, `pandas`, and `matplotlib`."
   ]
  },
  {
   "cell_type": "code",
   "execution_count": null,
   "id": "ad17238e",
   "metadata": {},
   "outputs": [],
   "source": [
    "# Install required packages\n",
    "!pip install yfinance pandas matplotlib"
   ]
  },
  {
   "cell_type": "code",
   "execution_count": null,
   "id": "d2705a90",
   "metadata": {},
   "outputs": [],
   "source": [
    "import yfinance as yf\n",
    "import pandas as pd\n",
    "import matplotlib.pyplot as plt\n",
    "from datetime import datetime\n",
    "\n",
    "# 1. Define tickers and date range\n",
    "tickers = ['AAPL','MSFT','GOOGL','AMZN','TSLA']\n",
    "start_date = '2020-01-01'\n",
    "end_date = datetime.today().strftime('%Y-%m-%d')\n",
    "\n",
    "# 2. Fetch data\n",
    "data = yf.download(tickers, start=start_date, end=end_date)['Adj Close']"
   ]
  },
  {
   "cell_type": "code",
   "execution_count": null,
   "id": "03c776f1",
   "metadata": {},
   "outputs": [],
   "source": [
    "# 3. Calculate moving averages and returns\n",
    "ma20 = data.rolling(window=20).mean()\n",
    "ma50 = data.rolling(window=50).mean()\n",
    "returns = data.pct_change().apply(lambda x: np.log(1+x))\n",
    "volatility20 = returns.rolling(window=20).std() * (252**0.5)"
   ]
  },
  {
   "cell_type": "code",
   "execution_count": null,
   "id": "e9f55cdd",
   "metadata": {},
   "outputs": [],
   "source": [
    "# 4. Plot Adjusted Close with SMAs\n",
    "plt.figure(figsize=(14,6))\n",
    "for ticker in tickers:\n",
    "    plt.plot(data[ticker], label=f'{ticker} Price')\n",
    "    plt.plot(ma20[ticker], label=f'{ticker} 20-day MA')\n",
    "    plt.plot(ma50[ticker], label=f'{ticker} 50-day MA')\n",
    "plt.title('Adjusted Close Price with 20/50-day Moving Averages')\n",
    "plt.legend()\n",
    "plt.show()"
   ]
  },
  {
   "cell_type": "code",
   "execution_count": null,
   "id": "a2d6cb5c",
   "metadata": {},
   "outputs": [],
   "source": [
    "# 5. Plot Daily Returns Time Series\n",
    "plt.figure(figsize=(14,4))\n",
    "for ticker in tickers:\n",
    "    plt.plot(returns[ticker], label=ticker)\n",
    "plt.title('Daily Log Returns')\n",
    "plt.legend()\n",
    "plt.show()"
   ]
  },
  {
   "cell_type": "code",
   "execution_count": null,
   "id": "8de065f1",
   "metadata": {},
   "outputs": [],
   "source": [
    "# 6. Histogram of Returns for AAPL\n",
    "plt.figure(figsize=(8,4))\n",
    "plt.hist(returns['AAPL'].dropna(), bins=50, color='gray')\n",
    "plt.title('Histogram of AAPL Daily Log Returns')\n",
    "plt.xlabel('Log Return')\n",
    "plt.ylabel('Frequency')\n",
    "plt.show()"
   ]
  },
  {
   "cell_type": "code",
   "execution_count": null,
   "id": "d4899e60",
   "metadata": {},
   "outputs": [],
   "source": [
    "# 7. Rolling Volatility\n",
    "plt.figure(figsize=(14,4))\n",
    "for ticker in tickers:\n",
    "    plt.plot(volatility20[ticker], label=ticker)\n",
    "plt.title('20-Day Annualized Volatility')\n",
    "plt.legend()\n",
    "plt.show()"
   ]
  },
  {
   "cell_type": "code",
   "execution_count": null,
   "id": "5c0b0c4a",
   "metadata": {},
   "outputs": [],
   "source": [
    "# 8. Cumulative Returns\n",
    "cum_ret = (1 + returns).cumprod() - 1\n",
    "plt.figure(figsize=(14,6))\n",
    "for ticker in tickers:\n",
    "    plt.plot(cum_ret[ticker], label=ticker)\n",
    "plt.title('Cumulative Returns')\n",
    "plt.legend()\n",
    "plt.show()"
   ]
  }
 ],
 "metadata": {},
 "nbformat": 4,
 "nbformat_minor": 5
}
